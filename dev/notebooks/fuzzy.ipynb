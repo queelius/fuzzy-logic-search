{
 "cells": [
  {
   "cell_type": "code",
   "execution_count": 1,
   "metadata": {},
   "outputs": [],
   "source": [
    "from algebraic_search.fuzzy_set import FuzzySet"
   ]
  },
  {
   "cell_type": "code",
   "execution_count": 2,
   "metadata": {},
   "outputs": [],
   "source": [
    "from algebraic_search.fuzzy_query import FuzzyQuery"
   ]
  },
  {
   "cell_type": "code",
   "execution_count": 3,
   "metadata": {},
   "outputs": [],
   "source": [
    "# Example queries\n",
    "q1 = FuzzyQuery(\"(and cat dog)\")\n",
    "q2 = FuzzyQuery(\"(or fish bird)\")\n",
    "q3 = ~q2\n",
    "combined_query = q1 & q3  # Represents \"(and (and cat dog) (not (or fish bird)))\"\n",
    "#assert str(combined_query) == \"(and (and cat dog) (not (or fish bird)))\"\n",
    "\n",
    "# let's rewrite as  \"((cat dog) (not (or fish bird)))\" for fun\n",
    "q4 = FuzzyQuery(\"( cat dog (not (or fish bird)))\")"
   ]
  },
  {
   "cell_type": "code",
   "execution_count": 4,
   "metadata": {},
   "outputs": [
    {
     "name": "stdout",
     "output_type": "stream",
     "text": [
      "FuzzyQuery(['and', 'cat', 'dog', ['not', ['and', 'fish', 'bird']]])\n"
     ]
    }
   ],
   "source": [
    "x = FuzzyQuery(\"(cat dog (not (fish bird)))\") # show short-cut (default is 'and')\\\n",
    "print(repr(x))\n"
   ]
  },
  {
   "cell_type": "code",
   "execution_count": 5,
   "metadata": {},
   "outputs": [
    {
     "name": "stdout",
     "output_type": "stream",
     "text": [
      "(and cat dog (not (and fish bird)))\n",
      "(and cat dog (not (and fish)))\n",
      "(and cat dog)\n",
      "(or fish bird)\n",
      "(not (or fish bird))\n",
      "(and (and cat dog) (not (or fish bird)))\n",
      "(and cat dog (not (or fish bird)))\n"
     ]
    }
   ],
   "source": [
    "\n",
    "print(FuzzyQuery(\"cat dog (not (fish bird))\")) # show short-cut (default is 'and')\n",
    "print(FuzzyQuery(\"(and cat dog (not (and fish) bird)\")) # we can also params\n",
    "print(q1)\n",
    "print(q2)\n",
    "print(q3)\n",
    "print(combined_query)\n",
    "print(q4)"
   ]
  },
  {
   "cell_type": "code",
   "execution_count": 6,
   "metadata": {},
   "outputs": [
    {
     "name": "stdout",
     "output_type": "stream",
     "text": [
      "Documents:\n",
      "0: ['cat', 'dog']\n",
      "1: ['fish']\n",
      "2: ['bird']\n",
      "3: ['cat', 'dog', 'fish']\n",
      "4: ['cat', 'dog', 'bird']\n",
      "5: ['cat']\n",
      "6: ['dog']\n",
      "7: ['fish', 'bird']\n",
      "8: ['cat', 'dog', 'fish', 'bird']\n"
     ]
    }
   ],
   "source": [
    "\n",
    "# Example documents\n",
    "documents = [\n",
    "    [\"cat\", \"dog\"],\n",
    "    [\"fish\"],\n",
    "    [\"bird\"],\n",
    "    [\"cat\", \"dog\", \"fish\"],\n",
    "    [\"cat\", \"dog\", \"bird\"],\n",
    "    [\"cat\"],\n",
    "    [\"dog\"],\n",
    "    [\"fish\", \"bird\"],\n",
    "    [\"cat\", \"dog\", \"fish\", \"bird\"],\n",
    "]\n",
    "print(\"Documents:\")\n",
    "for i, doc in enumerate(documents):\n",
    "    print(f\"{i}: {doc}\")\n"
   ]
  },
  {
   "cell_type": "code",
   "execution_count": 7,
   "metadata": {},
   "outputs": [
    {
     "name": "stdout",
     "output_type": "stream",
     "text": [
      "Degree-of-membership results for (and cat dog):\n",
      "['cat', 'dog']: 1.0\n",
      "['fish']: 0.0\n",
      "['bird']: 0.0\n",
      "['cat', 'dog', 'fish']: 1.0\n",
      "['cat', 'dog', 'bird']: 1.0\n",
      "['cat']: 0.0\n",
      "['dog']: 0.0\n",
      "['fish', 'bird']: 0.0\n",
      "['cat', 'dog', 'fish', 'bird']: 1.0\n",
      "\n"
     ]
    }
   ],
   "source": [
    "results1 = q1.eval(documents)\n",
    "\n",
    "def print_results(q, results):\n",
    "    print(f\"Degree-of-membership results for {q}:\")\n",
    "    for i, dom in enumerate(results):\n",
    "        print(f\"{documents[i]}: {dom}\")\n",
    "    print(\"\")\n",
    "print_results(q1, results1)\n"
   ]
  },
  {
   "cell_type": "code",
   "execution_count": 8,
   "metadata": {},
   "outputs": [
    {
     "name": "stdout",
     "output_type": "stream",
     "text": [
      "Mods:\n",
      "FuzzySet([1.0, 0.0, 0.0, 1.0, 1.0, 0.0]...)\n",
      "FuzzySet([1.0, 0.0, 0.0, 1.0, 1.0, 0.0]...)\n",
      "FuzzySet([1.0, 0.0, 0.0, 1.0, 1.0, 0.0]...)\n",
      "FuzzySet([1.0, 0.0, 0.0, 1.0, 1.0, 0.0]...)\n"
     ]
    }
   ],
   "source": [
    "import algebraic_search.fuzzy_set_mods as mods\n",
    "print(\"Mods:\")\n",
    "print(mods.very(results1))\n",
    "print(mods.slightly(results1))\n",
    "print(mods.very(mods.very(results1)))\n",
    "print(mods.somewhat(results1))"
   ]
  },
  {
   "cell_type": "code",
   "execution_count": 9,
   "metadata": {},
   "outputs": [
    {
     "name": "stdout",
     "output_type": "stream",
     "text": [
      "Degree-of-membership results for (or fish bird):\n",
      "['cat', 'dog']: 0.0\n",
      "['fish']: 1.0\n",
      "['bird']: 1.0\n",
      "['cat', 'dog', 'fish']: 1.0\n",
      "['cat', 'dog', 'bird']: 1.0\n",
      "['cat']: 0.0\n",
      "['dog']: 0.0\n",
      "['fish', 'bird']: 1.0\n",
      "['cat', 'dog', 'fish', 'bird']: 1.0\n",
      "\n",
      "Degree-of-membership results for (not (or fish bird)):\n",
      "['cat', 'dog']: 1.0\n",
      "['fish']: 0.0\n",
      "['bird']: 0.0\n",
      "['cat', 'dog', 'fish']: 0.0\n",
      "['cat', 'dog', 'bird']: 0.0\n",
      "['cat']: 1.0\n",
      "['dog']: 1.0\n",
      "['fish', 'bird']: 0.0\n",
      "['cat', 'dog', 'fish', 'bird']: 0.0\n",
      "\n",
      "Degree-of-membership results for (and cat dog (not (or fish bird))):\n",
      "['cat', 'dog']: 1.0\n",
      "['fish']: 0.0\n",
      "['bird']: 0.0\n",
      "['cat', 'dog', 'fish']: 0.0\n",
      "['cat', 'dog', 'bird']: 0.0\n",
      "['cat']: 0.0\n",
      "['dog']: 0.0\n",
      "['fish', 'bird']: 0.0\n",
      "['cat', 'dog', 'fish', 'bird']: 0.0\n",
      "\n",
      "Degree-of-membership results for (and (and cat dog) (not (or fish bird))):\n",
      "['cat', 'dog']: 1.0\n",
      "['fish']: 0.0\n",
      "['bird']: 0.0\n",
      "['cat', 'dog', 'fish']: 0.0\n",
      "['cat', 'dog', 'bird']: 0.0\n",
      "['cat']: 0.0\n",
      "['dog']: 0.0\n",
      "['fish', 'bird']: 0.0\n",
      "['cat', 'dog', 'fish', 'bird']: 0.0\n",
      "\n"
     ]
    }
   ],
   "source": [
    "results2 = q2.eval(documents)\n",
    "print_results(q2, results2)\n",
    "\n",
    "results3 = q3.eval(documents)\n",
    "print_results(q3, results3)\n",
    "\n",
    "results4 = q4.eval(documents)\n",
    "print_results(q4, results4)\n",
    "\n",
    "results_combined = combined_query.eval(documents)\n",
    "print_results(combined_query, results_combined)"
   ]
  },
  {
   "cell_type": "code",
   "execution_count": null,
   "metadata": {},
   "outputs": [
    {
     "name": "stdout",
     "output_type": "stream",
     "text": [
      "(and x y z)\n",
      "FuzzyQuery(['and', 'x', 'y', 'z'])\n",
      "(not (very (and x y z)))\n",
      "FuzzyQuery(['not', ['very', ['and', 'x', 'y', 'z']]])\n",
      "(very (not (and x y z)))\n",
      "FuzzyQuery(['very', ['not', ['and', 'x', 'y', 'z']]])\n"
     ]
    }
   ],
   "source": [
    "q_test = \"x y z\"\n",
    "q = FuzzyQuery(q_test)\n",
    "print(q)\n",
    "print(repr(q))\n",
    "\n",
    "q_not = ~q.very()\n",
    "print(q_not)\n",
    "print(repr(q_not))\n",
    "\n",
    "q_not_2 = (~q).very()\n",
    "print(q_not_2)\n",
    "print(repr(q_not_2))"
   ]
  }
 ],
 "metadata": {
  "kernelspec": {
   "display_name": "base",
   "language": "python",
   "name": "python3"
  },
  "language_info": {
   "codemirror_mode": {
    "name": "ipython",
    "version": 3
   },
   "file_extension": ".py",
   "mimetype": "text/x-python",
   "name": "python",
   "nbconvert_exporter": "python",
   "pygments_lexer": "ipython3",
   "version": "3.11.5"
  }
 },
 "nbformat": 4,
 "nbformat_minor": 2
}
